{
 "cells": [
  {
   "cell_type": "code",
   "execution_count": 1,
   "metadata": {},
   "outputs": [],
   "source": [
    "import tensorflow as tf\n",
    "import numpy as np\n",
    "import pandas as pd\n",
    "import matplotlib.pyplot as plt\n",
    "import random"
   ]
  },
  {
   "cell_type": "code",
   "execution_count": 2,
   "metadata": {},
   "outputs": [],
   "source": [
    "x = [random.randrange(100) for i in range(100)]\n",
    "y = [random.randrange(50) for i in range(100)]"
   ]
  },
  {
   "cell_type": "code",
   "execution_count": 3,
   "metadata": {},
   "outputs": [
    {
     "data": {
      "image/png": "[encoded data removed]",
      "text/plain": [
       "<Figure size 432x288 with 1 Axes>"
      ]
     },
     "metadata": {
      "needs_background": "light"
     },
     "output_type": "display_data"
    }
   ],
   "source": [
    "fig = plt.figure()\n",
    "ax = fig.add_axes([0,0,1,1])\n",
    "ax.scatter(x, y)\n",
    "plt.show()"
   ]
  },
  {
   "cell_type": "code",
   "execution_count": 4,
   "metadata": {},
   "outputs": [],
   "source": [
    "from tensorflow.keras.layers import Dense\n",
    "from tensorflow.keras.models import Sequential"
   ]
  },
  {
   "cell_type": "code",
   "execution_count": 5,
   "metadata": {},
   "outputs": [
    {
     "name": "stdout",
     "output_type": "stream",
     "text": [
      "Model: \"sequential\"\n",
      "_________________________________________________________________\n",
      "Layer (type)                 Output Shape              Param #   \n",
      "=================================================================\n",
      "dense (Dense)                (None, 1)                 2         \n",
      "=================================================================\n",
      "Total params: 2\n",
      "Trainable params: 2\n",
      "Non-trainable params: 0\n",
      "_________________________________________________________________\n"
     ]
    }
   ],
   "source": [
    "model = Sequential([Dense(units=1, input_shape=[1,])])\n",
    "opt = tf.keras.optimizers.Adam(learning_rate=0.01)\n",
    "model.compile(optimizer=opt, loss='mse')\n",
    "model.summary()"
   ]
  },
  {
   "cell_type": "code",
   "execution_count": 6,
   "metadata": {},
   "outputs": [
    {
     "name": "stdout",
     "output_type": "stream",
     "text": [
      "Epoch 1/100\n",
      "2/2 [==============================] - 0s 8ms/step - loss: 599.7361\n",
      "Epoch 2/100\n",
      "2/2 [==============================] - 0s 2ms/step - loss: 564.7101\n",
      "Epoch 3/100\n",
      "2/2 [==============================] - 0s 2ms/step - loss: 530.8125\n",
      "Epoch 4/100\n",
      "2/2 [==============================] - 0s 1ms/step - loss: 505.2262\n",
      "Epoch 5/100\n",
      "2/2 [==============================] - 0s 1ms/step - loss: 475.5439\n",
      "Epoch 6/100\n",
      "2/2 [==============================] - 0s 1ms/step - loss: 453.2444\n",
      "Epoch 7/100\n",
      "2/2 [==============================] - 0s 1000us/step - loss: 434.1888\n",
      "Epoch 8/100\n",
      "2/2 [==============================] - 0s 2ms/step - loss: 416.8975\n",
      "Epoch 9/100\n",
      "2/2 [==============================] - 0s 2ms/step - loss: 402.3882\n",
      "Epoch 10/100\n",
      "2/2 [==============================] - 0s 1ms/step - loss: 388.8102\n",
      "Epoch 11/100\n",
      "2/2 [==============================] - 0s 999us/step - loss: 378.6595\n",
      "Epoch 12/100\n",
      "2/2 [==============================] - ETA: 0s - loss: 403.929 - 0s 2ms/step - loss: 371.2123\n",
      "Epoch 13/100\n",
      "2/2 [==============================] - 0s 2ms/step - loss: 364.3060\n",
      "Epoch 14/100\n",
      "2/2 [==============================] - 0s 2ms/step - loss: 360.2947\n",
      "Epoch 15/100\n",
      "2/2 [==============================] - 0s 1ms/step - loss: 356.1574\n",
      "Epoch 16/100\n",
      "2/2 [==============================] - 0s 2ms/step - loss: 355.0986\n",
      "Epoch 17/100\n",
      "2/2 [==============================] - 0s 1ms/step - loss: 353.7123\n",
      "Epoch 18/100\n",
      "2/2 [==============================] - 0s 2ms/step - loss: 351.8872\n",
      "Epoch 19/100\n",
      "2/2 [==============================] - 0s 2ms/step - loss: 352.1677\n",
      "Epoch 20/100\n",
      "2/2 [==============================] - 0s 2ms/step - loss: 351.4531\n",
      "Epoch 21/100\n",
      "2/2 [==============================] - 0s 2ms/step - loss: 351.5304\n",
      "Epoch 22/100\n",
      "2/2 [==============================] - 0s 2ms/step - loss: 351.4566\n",
      "Epoch 23/100\n",
      "2/2 [==============================] - 0s 1ms/step - loss: 351.6067\n",
      "Epoch 24/100\n",
      "2/2 [==============================] - 0s 2ms/step - loss: 351.6291\n",
      "Epoch 25/100\n",
      "2/2 [==============================] - 0s 2ms/step - loss: 351.5370\n",
      "Epoch 26/100\n",
      "2/2 [==============================] - 0s 2ms/step - loss: 351.4555\n",
      "Epoch 27/100\n",
      "2/2 [==============================] - 0s 2ms/step - loss: 351.2277\n",
      "Epoch 28/100\n",
      "2/2 [==============================] - 0s 2ms/step - loss: 350.8753\n",
      "Epoch 29/100\n",
      "2/2 [==============================] - 0s 1ms/step - loss: 350.4267\n",
      "Epoch 30/100\n",
      "2/2 [==============================] - 0s 2ms/step - loss: 349.9802\n",
      "Epoch 31/100\n",
      "2/2 [==============================] - 0s 3ms/step - loss: 349.6372\n",
      "Epoch 32/100\n",
      "2/2 [==============================] - 0s 2ms/step - loss: 349.1512\n",
      "Epoch 33/100\n",
      "2/2 [==============================] - 0s 2ms/step - loss: 348.7599\n",
      "Epoch 34/100\n",
      "2/2 [==============================] - 0s 1ms/step - loss: 348.5182\n",
      "Epoch 35/100\n",
      "2/2 [==============================] - 0s 2ms/step - loss: 348.1225\n",
      "Epoch 36/100\n",
      "2/2 [==============================] - 0s 2ms/step - loss: 347.8525\n",
      "Epoch 37/100\n",
      "2/2 [==============================] - 0s 1000us/step - loss: 347.6119\n",
      "Epoch 38/100\n",
      "2/2 [==============================] - 0s 2ms/step - loss: 347.3692\n",
      "Epoch 39/100\n",
      "2/2 [==============================] - 0s 2ms/step - loss: 347.2116\n",
      "Epoch 40/100\n",
      "2/2 [==============================] - 0s 3ms/step - loss: 347.1640\n",
      "Epoch 41/100\n",
      "2/2 [==============================] - 0s 2ms/step - loss: 346.8768\n",
      "Epoch 42/100\n",
      "2/2 [==============================] - 0s 1ms/step - loss: 346.6853\n",
      "Epoch 43/100\n",
      "2/2 [==============================] - 0s 2ms/step - loss: 346.5170\n",
      "Epoch 44/100\n",
      "2/2 [==============================] - 0s 2ms/step - loss: 346.3206\n",
      "Epoch 45/100\n",
      "2/2 [==============================] - 0s 2ms/step - loss: 346.2345\n",
      "Epoch 46/100\n",
      "2/2 [==============================] - 0s 3ms/step - loss: 345.8700\n",
      "Epoch 47/100\n",
      "2/2 [==============================] - 0s 1ms/step - loss: 345.6194\n",
      "Epoch 48/100\n",
      "2/2 [==============================] - 0s 2ms/step - loss: 345.3109\n",
      "Epoch 49/100\n",
      "2/2 [==============================] - 0s 1ms/step - loss: 345.0986\n",
      "Epoch 50/100\n",
      "2/2 [==============================] - 0s 3ms/step - loss: 345.0730\n",
      "Epoch 51/100\n",
      "2/2 [==============================] - 0s 2ms/step - loss: 344.6476\n",
      "Epoch 52/100\n",
      "2/2 [==============================] - 0s 3ms/step - loss: 344.4566\n",
      "Epoch 53/100\n",
      "2/2 [==============================] - 0s 999us/step - loss: 344.2027\n",
      "Epoch 54/100\n",
      "2/2 [==============================] - 0s 3ms/step - loss: 344.0031\n",
      "Epoch 55/100\n",
      "2/2 [==============================] - 0s 2ms/step - loss: 343.8005\n",
      "Epoch 56/100\n",
      "2/2 [==============================] - 0s 2ms/step - loss: 343.5755\n",
      "Epoch 57/100\n",
      "2/2 [==============================] - 0s 1ms/step - loss: 343.3581\n",
      "Epoch 58/100\n",
      "2/2 [==============================] - 0s 2ms/step - loss: 343.1332\n",
      "Epoch 59/100\n",
      "2/2 [==============================] - 0s 2ms/step - loss: 342.9730\n",
      "Epoch 60/100\n",
      "2/2 [==============================] - 0s 2ms/step - loss: 342.6942\n",
      "Epoch 61/100\n",
      "2/2 [==============================] - 0s 1ms/step - loss: 342.4995\n",
      "Epoch 62/100\n",
      "2/2 [==============================] - 0s 2ms/step - loss: 342.2624\n",
      "Epoch 63/100\n",
      "2/2 [==============================] - 0s 2ms/step - loss: 342.0569\n",
      "Epoch 64/100\n",
      "2/2 [==============================] - 0s 1ms/step - loss: 341.8416\n",
      "Epoch 65/100\n",
      "2/2 [==============================] - 0s 1ms/step - loss: 341.7098\n",
      "Epoch 66/100\n",
      "2/2 [==============================] - 0s 2ms/step - loss: 341.4641\n",
      "Epoch 67/100\n",
      "2/2 [==============================] - 0s 2ms/step - loss: 341.2719\n",
      "Epoch 68/100\n",
      "2/2 [==============================] - 0s 2ms/step - loss: 341.0554\n",
      "Epoch 69/100\n",
      "2/2 [==============================] - 0s 2ms/step - loss: 340.7830\n",
      "Epoch 70/100\n",
      "2/2 [==============================] - 0s 2ms/step - loss: 340.6387\n",
      "Epoch 71/100\n",
      "2/2 [==============================] - 0s 2ms/step - loss: 340.3831\n",
      "Epoch 72/100\n",
      "2/2 [==============================] - 0s 2ms/step - loss: 340.1832\n",
      "Epoch 73/100\n",
      "2/2 [==============================] - 0s 2ms/step - loss: 339.9627\n",
      "Epoch 74/100\n",
      "2/2 [==============================] - 0s 2ms/step - loss: 339.7597\n",
      "Epoch 75/100\n",
      "2/2 [==============================] - 0s 2ms/step - loss: 339.5390\n",
      "Epoch 76/100\n",
      "2/2 [==============================] - 0s 1ms/step - loss: 339.3316\n",
      "Epoch 77/100\n",
      "2/2 [==============================] - 0s 2ms/step - loss: 339.1100\n",
      "Epoch 78/100\n",
      "2/2 [==============================] - 0s 2ms/step - loss: 338.9093\n",
      "Epoch 79/100\n",
      "2/2 [==============================] - 0s 2ms/step - loss: 338.7576\n",
      "Epoch 80/100\n",
      "2/2 [==============================] - 0s 2ms/step - loss: 338.5729\n",
      "Epoch 81/100\n",
      "2/2 [==============================] - 0s 1ms/step - loss: 338.3362\n",
      "Epoch 82/100\n",
      "2/2 [==============================] - 0s 2ms/step - loss: 338.1127\n",
      "Epoch 83/100\n",
      "2/2 [==============================] - 0s 2ms/step - loss: 337.9066\n",
      "Epoch 84/100\n",
      "2/2 [==============================] - 0s 2ms/step - loss: 337.6538\n",
      "Epoch 85/100\n",
      "2/2 [==============================] - 0s 1ms/step - loss: 337.4595\n",
      "Epoch 86/100\n",
      "2/2 [==============================] - 0s 2ms/step - loss: 337.2617\n",
      "Epoch 87/100\n",
      "2/2 [==============================] - 0s 2ms/step - loss: 337.0731\n",
      "Epoch 88/100\n",
      "2/2 [==============================] - 0s 2ms/step - loss: 336.9673\n",
      "Epoch 89/100\n",
      "2/2 [==============================] - 0s 2ms/step - loss: 336.7651\n",
      "Epoch 90/100\n",
      "2/2 [==============================] - 0s 2ms/step - loss: 336.5991\n",
      "Epoch 91/100\n",
      "2/2 [==============================] - 0s 2ms/step - loss: 336.4127\n",
      "Epoch 92/100\n",
      "2/2 [==============================] - 0s 2ms/step - loss: 336.1926\n",
      "Epoch 93/100\n",
      "2/2 [==============================] - 0s 2ms/step - loss: 335.9686\n",
      "Epoch 94/100\n",
      "2/2 [==============================] - 0s 2ms/step - loss: 335.7607\n",
      "Epoch 95/100\n",
      "2/2 [==============================] - 0s 5ms/step - loss: 335.5846\n",
      "Epoch 96/100\n",
      "2/2 [==============================] - 0s 3ms/step - loss: 335.2565\n",
      "Epoch 97/100\n",
      "2/2 [==============================] - 0s 3ms/step - loss: 335.0403\n",
      "Epoch 98/100\n",
      "2/2 [==============================] - 0s 1ms/step - loss: 334.9429\n",
      "Epoch 99/100\n",
      "2/2 [==============================] - 0s 2ms/step - loss: 334.6357\n",
      "Epoch 100/100\n",
      "2/2 [==============================] - 0s 2ms/step - loss: 334.4333\n"
     ]
    }
   ],
   "source": [
    "history = model.fit(x, y, batch_size=64, epochs=100)"
   ]
  },
  {
   "cell_type": "code",
   "execution_count": 7,
   "metadata": {},
   "outputs": [
    {
     "data": {
      "text/plain": [
       "array([[6.805039]], dtype=float32)"
      ]
     },
     "execution_count": 7,
     "metadata": {},
     "output_type": "execute_result"
    }
   ],
   "source": [
    "model.predict([15])"
   ]
  },
  {
   "cell_type": "code",
   "execution_count": 8,
   "metadata": {},
   "outputs": [
    {
     "data": {
      "image/png": "[encoded data removed]",
      "text/plain": [
       "<Figure size 432x288 with 1 Axes>"
      ]
     },
     "metadata": {
      "needs_background": "light"
     },
     "output_type": "display_data"
    }
   ],
   "source": [
    "w,b = model.weights\n",
    "fig = plt.figure()\n",
    "ax = fig.add_axes([0,0,1,1])\n",
    "ax.scatter(x, y)\n",
    "axes = plt.gca()\n",
    "x_vals = np.array(axes.get_xlim())\n",
    "y_vals = b.numpy()[0] + w.numpy()[0][0] * x_vals\n",
    "plt.plot(x_vals, y_vals, '--')\n",
    "plt.show()"
   ]
  },
  {
   "cell_type": "code",
   "execution_count": 9,
   "metadata": {},
   "outputs": [
    {
     "data": {
      "text/plain": [
       "<AxesSubplot:>"
      ]
     },
     "execution_count": 9,
     "metadata": {},
     "output_type": "execute_result"
    },
    {
     "data": {
      "image/png": "[encoded data removed]",
      "text/plain": [
       "<Figure size 432x288 with 1 Axes>"
      ]
     },
     "metadata": {
      "needs_background": "light"
     },
     "output_type": "display_data"
    }
   ],
   "source": [
    "pd.DataFrame(history.history).plot()"
   ]
  },
  {
   "cell_type": "code",
   "execution_count": null,
   "metadata": {},
   "outputs": [],
   "source": []
  }
 ],
 "metadata": {
  "kernelspec": {
   "display_name": "Python 3",
   "language": "python",
   "name": "python3"
  },
  "language_info": {
   "codemirror_mode": {
    "name": "ipython",
    "version": 3
   },
   "file_extension": ".py",
   "mimetype": "text/x-python",
   "name": "python",
   "nbconvert_exporter": "python",
   "pygments_lexer": "ipython3",
   "version": "3.7.0"
  }
 },
 "nbformat": 4,
 "nbformat_minor": 4
}
